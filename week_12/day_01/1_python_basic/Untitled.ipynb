{
 "cells": [
  {
   "cell_type": "markdown",
   "id": "1ec2d424",
   "metadata": {},
   "source": [
    "variable assignment"
   ]
  },
  {
   "cell_type": "code",
   "execution_count": 1,
   "id": "64ca9aa5",
   "metadata": {},
   "outputs": [
    {
     "name": "stdout",
     "output_type": "stream",
     "text": [
      "3\n"
     ]
    }
   ],
   "source": [
    "x = 3\n",
    "print(x)"
   ]
  },
  {
   "cell_type": "code",
   "execution_count": 2,
   "id": "c2a3d592",
   "metadata": {},
   "outputs": [
    {
     "data": {
      "text/plain": [
       "3"
      ]
     },
     "execution_count": 2,
     "metadata": {},
     "output_type": "execute_result"
    }
   ],
   "source": [
    "x"
   ]
  },
  {
   "cell_type": "code",
   "execution_count": 3,
   "id": "be9d79ee",
   "metadata": {},
   "outputs": [
    {
     "data": {
      "text/plain": [
       "'Hello world!'"
      ]
     },
     "execution_count": 3,
     "metadata": {},
     "output_type": "execute_result"
    }
   ],
   "source": [
    "\"Hello world!\""
   ]
  },
  {
   "cell_type": "code",
   "execution_count": 4,
   "id": "e9742e01",
   "metadata": {},
   "outputs": [
    {
     "data": {
      "text/plain": [
       "False"
      ]
     },
     "execution_count": 4,
     "metadata": {},
     "output_type": "execute_result"
    }
   ],
   "source": [
    "3 > 5"
   ]
  },
  {
   "cell_type": "code",
   "execution_count": 5,
   "id": "00adc11d",
   "metadata": {},
   "outputs": [
    {
     "data": {
      "text/plain": [
       "True"
      ]
     },
     "execution_count": 5,
     "metadata": {},
     "output_type": "execute_result"
    }
   ],
   "source": [
    "3 > 2"
   ]
  },
  {
   "cell_type": "code",
   "execution_count": 6,
   "id": "6c8d8233",
   "metadata": {},
   "outputs": [
    {
     "data": {
      "text/plain": [
       "1"
      ]
     },
     "execution_count": 6,
     "metadata": {},
     "output_type": "execute_result"
    }
   ],
   "source": [
    "10 % 3 "
   ]
  },
  {
   "cell_type": "code",
   "execution_count": 7,
   "id": "f2d90e1b",
   "metadata": {},
   "outputs": [
    {
     "ename": "SyntaxError",
     "evalue": "invalid syntax (3177267533.py, line 1)",
     "output_type": "error",
     "traceback": [
      "\u001b[0;36m  Input \u001b[0;32mIn [7]\u001b[0;36m\u001b[0m\n\u001b[0;31m    and or\u001b[0m\n\u001b[0m    ^\u001b[0m\n\u001b[0;31mSyntaxError\u001b[0m\u001b[0;31m:\u001b[0m invalid syntax\n"
     ]
    }
   ],
   "source": [
    "and or "
   ]
  },
  {
   "cell_type": "code",
   "execution_count": 8,
   "id": "93ba33be",
   "metadata": {},
   "outputs": [],
   "source": [
    "x = None"
   ]
  },
  {
   "cell_type": "code",
   "execution_count": 9,
   "id": "000a936e",
   "metadata": {},
   "outputs": [
    {
     "name": "stdout",
     "output_type": "stream",
     "text": [
      "None\n"
     ]
    }
   ],
   "source": [
    "print(x)"
   ]
  },
  {
   "cell_type": "code",
   "execution_count": 10,
   "id": "baab84ab",
   "metadata": {},
   "outputs": [],
   "source": [
    "x"
   ]
  },
  {
   "cell_type": "code",
   "execution_count": 11,
   "id": "b60e10f0",
   "metadata": {},
   "outputs": [
    {
     "data": {
      "text/plain": [
       "0.6666666666666666"
      ]
     },
     "execution_count": 11,
     "metadata": {},
     "output_type": "execute_result"
    }
   ],
   "source": [
    "2 / 3"
   ]
  },
  {
   "cell_type": "code",
   "execution_count": 12,
   "id": "688e5c77",
   "metadata": {},
   "outputs": [
    {
     "data": {
      "text/plain": [
       "float"
      ]
     },
     "execution_count": 12,
     "metadata": {},
     "output_type": "execute_result"
    }
   ],
   "source": [
    "type(2/3)"
   ]
  },
  {
   "cell_type": "code",
   "execution_count": 13,
   "id": "87d13088",
   "metadata": {},
   "outputs": [
    {
     "data": {
      "text/plain": [
       "int"
      ]
     },
     "execution_count": 13,
     "metadata": {},
     "output_type": "execute_result"
    }
   ],
   "source": [
    "type(3)"
   ]
  },
  {
   "cell_type": "markdown",
   "id": "64719aac",
   "metadata": {},
   "source": [
    "# Heading1\n",
    "## Heading 2\n",
    "### Heading 3\n",
    "#### Heading 4\n",
    "\n",
    "*italics*\n",
    "\n",
    "**bold**\n",
    "\n",
    "1. A\n",
    "2. Numbered\n",
    "3. List\n",
    "\n",
    "* A\n",
    "* Bullet\n",
    "* List\n",
    "\n",
    ".[A link!]. "
   ]
  },
  {
   "cell_type": "markdown",
   "id": "0b7f9ebb",
   "metadata": {},
   "source": [
    "# Lists"
   ]
  },
  {
   "cell_type": "code",
   "execution_count": 14,
   "id": "d34c97fe",
   "metadata": {},
   "outputs": [
    {
     "data": {
      "text/plain": [
       "['key chain', 'wallet', 'phone', 4]"
      ]
     },
     "execution_count": 14,
     "metadata": {},
     "output_type": "execute_result"
    }
   ],
   "source": [
    "my_items = [\"key chain\", \"wallet\", \"phone\", 4]\n",
    "my_items"
   ]
  },
  {
   "cell_type": "code",
   "execution_count": 15,
   "id": "3d14d781",
   "metadata": {},
   "outputs": [
    {
     "data": {
      "text/plain": [
       "list"
      ]
     },
     "execution_count": 15,
     "metadata": {},
     "output_type": "execute_result"
    }
   ],
   "source": [
    "type(my_items)"
   ]
  },
  {
   "cell_type": "code",
   "execution_count": 16,
   "id": "9cffceac",
   "metadata": {},
   "outputs": [
    {
     "data": {
      "text/plain": [
       "False"
      ]
     },
     "execution_count": 16,
     "metadata": {},
     "output_type": "execute_result"
    }
   ],
   "source": [
    "5 == [5]"
   ]
  },
  {
   "cell_type": "code",
   "execution_count": 17,
   "id": "83979f1d",
   "metadata": {},
   "outputs": [
    {
     "ename": "NameError",
     "evalue": "name 'indexed' is not defined",
     "output_type": "error",
     "traceback": [
      "\u001b[0;31m---------------------------------------------------------------------------\u001b[0m",
      "\u001b[0;31mNameError\u001b[0m                                 Traceback (most recent call last)",
      "Input \u001b[0;32mIn [17]\u001b[0m, in \u001b[0;36m<cell line: 1>\u001b[0;34m()\u001b[0m\n\u001b[0;32m----> 1\u001b[0m \u001b[38;5;241m0\u001b[39m\u001b[38;5;241m-\u001b[39m\u001b[43mindexed\u001b[49m, \u001b[38;5;129;01mnot\u001b[39;00m \u001b[38;5;241m1\u001b[39m\u001b[38;5;241m-\u001b[39mindexed\n",
      "\u001b[0;31mNameError\u001b[0m: name 'indexed' is not defined"
     ]
    }
   ],
   "source": [
    "0-indexed, not 1-indexed"
   ]
  },
  {
   "cell_type": "markdown",
   "id": "320cc92c",
   "metadata": {},
   "source": [
    "0-indexed, not 1-indexed"
   ]
  },
  {
   "cell_type": "code",
   "execution_count": 18,
   "id": "70c6d19e",
   "metadata": {},
   "outputs": [
    {
     "data": {
      "text/plain": [
       "'key chain'"
      ]
     },
     "execution_count": 18,
     "metadata": {},
     "output_type": "execute_result"
    }
   ],
   "source": [
    "my_items[0]"
   ]
  },
  {
   "cell_type": "code",
   "execution_count": 19,
   "id": "b3d1257c",
   "metadata": {},
   "outputs": [
    {
     "data": {
      "text/plain": [
       "4"
      ]
     },
     "execution_count": 19,
     "metadata": {},
     "output_type": "execute_result"
    }
   ],
   "source": [
    "my_items[-1]"
   ]
  },
  {
   "cell_type": "code",
   "execution_count": 20,
   "id": "acf99d02",
   "metadata": {},
   "outputs": [
    {
     "data": {
      "text/plain": [
       "['key chain', 'wallet']"
      ]
     },
     "execution_count": 20,
     "metadata": {},
     "output_type": "execute_result"
    }
   ],
   "source": [
    "my_items[0:2]"
   ]
  },
  {
   "cell_type": "code",
   "execution_count": 21,
   "id": "f2d7ea31",
   "metadata": {},
   "outputs": [
    {
     "data": {
      "text/plain": [
       "['key chain', 'wallet']"
      ]
     },
     "execution_count": 21,
     "metadata": {},
     "output_type": "execute_result"
    }
   ],
   "source": [
    "my_items[:2]"
   ]
  },
  {
   "cell_type": "code",
   "execution_count": 22,
   "id": "42148913",
   "metadata": {},
   "outputs": [
    {
     "data": {
      "text/plain": [
       "['phone', 4]"
      ]
     },
     "execution_count": 22,
     "metadata": {},
     "output_type": "execute_result"
    }
   ],
   "source": [
    "my_items[2:]"
   ]
  },
  {
   "cell_type": "code",
   "execution_count": 23,
   "id": "b948f571",
   "metadata": {},
   "outputs": [
    {
     "data": {
      "text/plain": [
       "range(5, 10)"
      ]
     },
     "execution_count": 23,
     "metadata": {},
     "output_type": "execute_result"
    }
   ],
   "source": [
    "range(5, 10)"
   ]
  },
  {
   "cell_type": "code",
   "execution_count": 24,
   "id": "7ac309a5",
   "metadata": {},
   "outputs": [
    {
     "data": {
      "text/plain": [
       "type"
      ]
     },
     "execution_count": 24,
     "metadata": {},
     "output_type": "execute_result"
    }
   ],
   "source": [
    "type(range)"
   ]
  },
  {
   "cell_type": "code",
   "execution_count": 25,
   "id": "3a4a1660",
   "metadata": {},
   "outputs": [
    {
     "data": {
      "text/plain": [
       "[5, 6, 7, 8, 9]"
      ]
     },
     "execution_count": 25,
     "metadata": {},
     "output_type": "execute_result"
    }
   ],
   "source": [
    "list(range(5, 10))"
   ]
  },
  {
   "cell_type": "code",
   "execution_count": 26,
   "id": "13839fe5",
   "metadata": {},
   "outputs": [
    {
     "data": {
      "text/plain": [
       "[0, 1, 2, 3, 4]"
      ]
     },
     "execution_count": 26,
     "metadata": {},
     "output_type": "execute_result"
    }
   ],
   "source": [
    "list(range(5))"
   ]
  },
  {
   "cell_type": "code",
   "execution_count": 29,
   "id": "d380bfb8",
   "metadata": {},
   "outputs": [
    {
     "data": {
      "text/plain": [
       "['Apple', 'Grape', 101, 'Onion', False]"
      ]
     },
     "execution_count": 29,
     "metadata": {},
     "output_type": "execute_result"
    }
   ],
   "source": [
    "things = [\"Apple\", \"Grape\", 101, \"Onion\", False]\n",
    "things"
   ]
  },
  {
   "cell_type": "code",
   "execution_count": 30,
   "id": "cfd1b0a4",
   "metadata": {},
   "outputs": [
    {
     "data": {
      "text/plain": [
       "'Apple'"
      ]
     },
     "execution_count": 30,
     "metadata": {},
     "output_type": "execute_result"
    }
   ],
   "source": [
    "things[0]"
   ]
  },
  {
   "cell_type": "code",
   "execution_count": 31,
   "id": "c4af2cc2",
   "metadata": {},
   "outputs": [
    {
     "data": {
      "text/plain": [
       "False"
      ]
     },
     "execution_count": 31,
     "metadata": {},
     "output_type": "execute_result"
    }
   ],
   "source": [
    "things[-1]"
   ]
  },
  {
   "cell_type": "code",
   "execution_count": 32,
   "id": "5c031878",
   "metadata": {},
   "outputs": [
    {
     "data": {
      "text/plain": [
       "['Apple', 'Grape', 101, 'Onion']"
      ]
     },
     "execution_count": 32,
     "metadata": {},
     "output_type": "execute_result"
    }
   ],
   "source": [
    "things[:4]"
   ]
  },
  {
   "cell_type": "code",
   "execution_count": 33,
   "id": "facddffa",
   "metadata": {},
   "outputs": [
    {
     "data": {
      "text/plain": [
       "['Apple', 'Grape', 101, 'Onion']"
      ]
     },
     "execution_count": 33,
     "metadata": {},
     "output_type": "execute_result"
    }
   ],
   "source": [
    "things[:-1]"
   ]
  },
  {
   "cell_type": "code",
   "execution_count": 34,
   "id": "ed1910c0",
   "metadata": {},
   "outputs": [
    {
     "data": {
      "text/plain": [
       "int"
      ]
     },
     "execution_count": 34,
     "metadata": {},
     "output_type": "execute_result"
    }
   ],
   "source": [
    "type(things[2])"
   ]
  },
  {
   "cell_type": "code",
   "execution_count": 35,
   "id": "6c799510",
   "metadata": {},
   "outputs": [
    {
     "data": {
      "text/plain": [
       "str"
      ]
     },
     "execution_count": 35,
     "metadata": {},
     "output_type": "execute_result"
    }
   ],
   "source": [
    "type(things[3])"
   ]
  },
  {
   "cell_type": "code",
   "execution_count": 36,
   "id": "2242c5c2",
   "metadata": {},
   "outputs": [
    {
     "data": {
      "text/plain": [
       "bool"
      ]
     },
     "execution_count": 36,
     "metadata": {},
     "output_type": "execute_result"
    }
   ],
   "source": [
    "type(things[4])"
   ]
  },
  {
   "cell_type": "code",
   "execution_count": 37,
   "id": "b100875a",
   "metadata": {},
   "outputs": [
    {
     "ename": "SyntaxError",
     "evalue": "invalid syntax (3832440710.py, line 1)",
     "output_type": "error",
     "traceback": [
      "\u001b[0;36m  Input \u001b[0;32mIn [37]\u001b[0;36m\u001b[0m\n\u001b[0;31m    range(list(11:16))\u001b[0m\n\u001b[0m                 ^\u001b[0m\n\u001b[0;31mSyntaxError\u001b[0m\u001b[0;31m:\u001b[0m invalid syntax\n"
     ]
    }
   ],
   "source": [
    "range(list(11:16))"
   ]
  },
  {
   "cell_type": "code",
   "execution_count": 39,
   "id": "f6dd4697",
   "metadata": {},
   "outputs": [
    {
     "data": {
      "text/plain": [
       "[11, 12, 13, 14, 15]"
      ]
     },
     "execution_count": 39,
     "metadata": {},
     "output_type": "execute_result"
    }
   ],
   "source": [
    "list(range(11, 16))"
   ]
  },
  {
   "cell_type": "code",
   "execution_count": 40,
   "id": "fb72a0c2",
   "metadata": {},
   "outputs": [
    {
     "data": {
      "text/plain": [
       "6"
      ]
     },
     "execution_count": 40,
     "metadata": {},
     "output_type": "execute_result"
    }
   ],
   "source": [
    "sum([1, 2, 3])"
   ]
  },
  {
   "cell_type": "code",
   "execution_count": 41,
   "id": "66e0e7ea",
   "metadata": {},
   "outputs": [],
   "source": [
    "numbers = [19, 4, 33, 6]"
   ]
  },
  {
   "cell_type": "code",
   "execution_count": 42,
   "id": "0b76060e",
   "metadata": {},
   "outputs": [],
   "source": [
    "numbers.sort()"
   ]
  },
  {
   "cell_type": "code",
   "execution_count": 43,
   "id": "41b40cb5",
   "metadata": {},
   "outputs": [
    {
     "data": {
      "text/plain": [
       "[4, 6, 19, 33]"
      ]
     },
     "execution_count": 43,
     "metadata": {},
     "output_type": "execute_result"
    }
   ],
   "source": [
    "numbers"
   ]
  },
  {
   "cell_type": "code",
   "execution_count": 44,
   "id": "88b13e15",
   "metadata": {},
   "outputs": [
    {
     "data": {
      "text/plain": [
       "33"
      ]
     },
     "execution_count": 44,
     "metadata": {},
     "output_type": "execute_result"
    }
   ],
   "source": [
    "numbers.pop()"
   ]
  },
  {
   "cell_type": "code",
   "execution_count": 45,
   "id": "ac46da28",
   "metadata": {},
   "outputs": [
    {
     "data": {
      "text/plain": [
       "[4, 6, 19]"
      ]
     },
     "execution_count": 45,
     "metadata": {},
     "output_type": "execute_result"
    }
   ],
   "source": [
    "numbers"
   ]
  },
  {
   "cell_type": "code",
   "execution_count": 46,
   "id": "f41ea5b9",
   "metadata": {},
   "outputs": [],
   "source": [
    "numbers.append(5)"
   ]
  },
  {
   "cell_type": "code",
   "execution_count": 47,
   "id": "8a971698",
   "metadata": {},
   "outputs": [
    {
     "data": {
      "text/plain": [
       "[4, 6, 19, 5]"
      ]
     },
     "execution_count": 47,
     "metadata": {},
     "output_type": "execute_result"
    }
   ],
   "source": [
    "numbers"
   ]
  },
  {
   "cell_type": "code",
   "execution_count": 48,
   "id": "a66240f7",
   "metadata": {},
   "outputs": [
    {
     "data": {
      "text/plain": [
       "[4, 6, 19]"
      ]
     },
     "execution_count": 48,
     "metadata": {},
     "output_type": "execute_result"
    }
   ],
   "source": [
    "numbers.remove(5)\n",
    "numbers"
   ]
  },
  {
   "cell_type": "code",
   "execution_count": 49,
   "id": "5ce23591",
   "metadata": {},
   "outputs": [
    {
     "data": {
      "text/plain": [
       "[4, 6, 19, [7, 3, 99]]"
      ]
     },
     "execution_count": 49,
     "metadata": {},
     "output_type": "execute_result"
    }
   ],
   "source": [
    "numbers.append([7, 3, 99])\n",
    "numbers"
   ]
  },
  {
   "cell_type": "code",
   "execution_count": 50,
   "id": "190bb980",
   "metadata": {},
   "outputs": [
    {
     "data": {
      "text/plain": [
       "[7, 3, 99]"
      ]
     },
     "execution_count": 50,
     "metadata": {},
     "output_type": "execute_result"
    }
   ],
   "source": [
    "numbers.pop()"
   ]
  },
  {
   "cell_type": "code",
   "execution_count": 51,
   "id": "55175ec0",
   "metadata": {},
   "outputs": [
    {
     "data": {
      "text/plain": [
       "[4, 6, 19]"
      ]
     },
     "execution_count": 51,
     "metadata": {},
     "output_type": "execute_result"
    }
   ],
   "source": [
    "numbers"
   ]
  },
  {
   "cell_type": "code",
   "execution_count": 52,
   "id": "cec5f42a",
   "metadata": {},
   "outputs": [
    {
     "data": {
      "text/plain": [
       "[4, 6, 19, 7, 3, 99]"
      ]
     },
     "execution_count": 52,
     "metadata": {},
     "output_type": "execute_result"
    }
   ],
   "source": [
    "numbers.extend([7, 3, 99])\n",
    "numbers"
   ]
  },
  {
   "cell_type": "code",
   "execution_count": 53,
   "id": "ba5448f5",
   "metadata": {},
   "outputs": [],
   "source": [
    "primes = [1, 2, 3, 5, 7]"
   ]
  },
  {
   "cell_type": "code",
   "execution_count": 54,
   "id": "83656904",
   "metadata": {},
   "outputs": [],
   "source": [
    "primes.remove(1)"
   ]
  },
  {
   "cell_type": "code",
   "execution_count": 55,
   "id": "c0e622f3",
   "metadata": {},
   "outputs": [
    {
     "data": {
      "text/plain": [
       "[2, 3, 5, 7]"
      ]
     },
     "execution_count": 55,
     "metadata": {},
     "output_type": "execute_result"
    }
   ],
   "source": [
    "primes"
   ]
  },
  {
   "cell_type": "code",
   "execution_count": 56,
   "id": "eca0127d",
   "metadata": {},
   "outputs": [
    {
     "data": {
      "text/plain": [
       "[2, 3, 5, 7, 11, 13, 17]"
      ]
     },
     "execution_count": 56,
     "metadata": {},
     "output_type": "execute_result"
    }
   ],
   "source": [
    "primes.extend([11, 13, 17])\n",
    "primes"
   ]
  },
  {
   "cell_type": "code",
   "execution_count": 57,
   "id": "befc6b07",
   "metadata": {},
   "outputs": [
    {
     "data": {
      "text/plain": [
       "[17, 13, 11, 7, 5, 3, 2]"
      ]
     },
     "execution_count": 57,
     "metadata": {},
     "output_type": "execute_result"
    }
   ],
   "source": [
    "primes.reverse()\n",
    "primes"
   ]
  },
  {
   "cell_type": "markdown",
   "id": "afb52fe9",
   "metadata": {},
   "source": [
    "# Dictionaries"
   ]
  },
  {
   "cell_type": "code",
   "execution_count": 58,
   "id": "fa3d1450",
   "metadata": {},
   "outputs": [
    {
     "data": {
      "text/plain": [
       "{'name': 'Jamie', 'age': 22}"
      ]
     },
     "execution_count": 58,
     "metadata": {},
     "output_type": "execute_result"
    }
   ],
   "source": [
    "person = {\n",
    "    \"name\": \"Jamie\",\n",
    "    \"age\": 22\n",
    "}\n",
    "person"
   ]
  },
  {
   "cell_type": "code",
   "execution_count": 59,
   "id": "fe83b2a7",
   "metadata": {},
   "outputs": [
    {
     "data": {
      "text/plain": [
       "dict"
      ]
     },
     "execution_count": 59,
     "metadata": {},
     "output_type": "execute_result"
    }
   ],
   "source": [
    "type(person)"
   ]
  },
  {
   "cell_type": "code",
   "execution_count": 62,
   "id": "24957c35",
   "metadata": {},
   "outputs": [
    {
     "data": {
      "text/plain": [
       "{'name': 'Scotland', 'age': 22}"
      ]
     },
     "execution_count": 62,
     "metadata": {},
     "output_type": "execute_result"
    }
   ],
   "source": [
    "person2 = {\n",
    "    \"name\": \"Colin\",\n",
    "    \"name\": \"Scotland\",\n",
    "    \"age\": 22\n",
    "}\n",
    "person2"
   ]
  },
  {
   "cell_type": "code",
   "execution_count": 63,
   "id": "bf75aa68",
   "metadata": {},
   "outputs": [
    {
     "data": {
      "text/plain": [
       "'Jamie'"
      ]
     },
     "execution_count": 63,
     "metadata": {},
     "output_type": "execute_result"
    }
   ],
   "source": [
    "person[\"name\"]"
   ]
  },
  {
   "cell_type": "code",
   "execution_count": 64,
   "id": "c2b18d5b",
   "metadata": {},
   "outputs": [
    {
     "data": {
      "text/plain": [
       "dict_keys(['name', 'age'])"
      ]
     },
     "execution_count": 64,
     "metadata": {},
     "output_type": "execute_result"
    }
   ],
   "source": [
    "person.keys()"
   ]
  },
  {
   "cell_type": "code",
   "execution_count": 65,
   "id": "61f4cef2",
   "metadata": {},
   "outputs": [
    {
     "data": {
      "text/plain": [
       "dict_values(['Jamie', 22])"
      ]
     },
     "execution_count": 65,
     "metadata": {},
     "output_type": "execute_result"
    }
   ],
   "source": [
    "person.values()"
   ]
  },
  {
   "cell_type": "code",
   "execution_count": 66,
   "id": "13f1b4ab",
   "metadata": {},
   "outputs": [
    {
     "data": {
      "text/plain": [
       "dict_items([('name', 'Jamie'), ('age', 22)])"
      ]
     },
     "execution_count": 66,
     "metadata": {},
     "output_type": "execute_result"
    }
   ],
   "source": [
    "person.items()"
   ]
  },
  {
   "cell_type": "code",
   "execution_count": 67,
   "id": "701e484c",
   "metadata": {},
   "outputs": [
    {
     "data": {
      "text/plain": [
       "2"
      ]
     },
     "execution_count": 67,
     "metadata": {},
     "output_type": "execute_result"
    }
   ],
   "source": [
    "len(person)"
   ]
  },
  {
   "cell_type": "code",
   "execution_count": 68,
   "id": "7d40711c",
   "metadata": {},
   "outputs": [
    {
     "data": {
      "text/plain": [
       "4"
      ]
     },
     "execution_count": 68,
     "metadata": {},
     "output_type": "execute_result"
    }
   ],
   "source": [
    "len(my_items)"
   ]
  },
  {
   "cell_type": "code",
   "execution_count": 69,
   "id": "7828a77f",
   "metadata": {},
   "outputs": [
    {
     "data": {
      "text/plain": [
       "{'name': 'Del', 'age': 22, 'preferred_jokes': ['dad jokes', 'puns']}"
      ]
     },
     "execution_count": 69,
     "metadata": {},
     "output_type": "execute_result"
    }
   ],
   "source": [
    "person.update({\n",
    "    \"name\": \"Del\",\n",
    "    \"preferred_jokes\": [\"dad jokes\", \"puns\"]\n",
    "})\n",
    "person"
   ]
  },
  {
   "cell_type": "code",
   "execution_count": 70,
   "id": "40be25b7",
   "metadata": {},
   "outputs": [
    {
     "data": {
      "text/plain": [
       "22"
      ]
     },
     "execution_count": 70,
     "metadata": {},
     "output_type": "execute_result"
    }
   ],
   "source": [
    "person.pop(\"age\")"
   ]
  },
  {
   "cell_type": "code",
   "execution_count": 71,
   "id": "f9d2bcd2",
   "metadata": {},
   "outputs": [
    {
     "name": "stdout",
     "output_type": "stream",
     "text": [
      "{'uk': {'capital': 'London', 'population': 1000}, 'germany': {'capital': 'Berlin', 'population': 5}}\n"
     ]
    }
   ],
   "source": [
    "countries = {\n",
    "    \"uk\": {\n",
    "        \"capital\": \"London\",\n",
    "        \"population\": 1000\n",
    "    },\n",
    "    \"germany\": {\n",
    "        \"capital\": \"Berlin\",\n",
    "        \"population\": 5\n",
    "    }\n",
    "}\n",
    "print(countries)"
   ]
  },
  {
   "cell_type": "code",
   "execution_count": 72,
   "id": "84bb832d",
   "metadata": {},
   "outputs": [
    {
     "data": {
      "text/plain": [
       "5"
      ]
     },
     "execution_count": 72,
     "metadata": {},
     "output_type": "execute_result"
    }
   ],
   "source": [
    "countries[\"germany\"][\"population\"]"
   ]
  },
  {
   "cell_type": "code",
   "execution_count": null,
   "id": "10a64c43",
   "metadata": {},
   "outputs": [],
   "source": []
  }
 ],
 "metadata": {
  "kernelspec": {
   "display_name": "Python 3 (ipykernel)",
   "language": "python",
   "name": "python3"
  },
  "language_info": {
   "codemirror_mode": {
    "name": "ipython",
    "version": 3
   },
   "file_extension": ".py",
   "mimetype": "text/x-python",
   "name": "python",
   "nbconvert_exporter": "python",
   "pygments_lexer": "ipython3",
   "version": "3.9.12"
  }
 },
 "nbformat": 4,
 "nbformat_minor": 5
}
