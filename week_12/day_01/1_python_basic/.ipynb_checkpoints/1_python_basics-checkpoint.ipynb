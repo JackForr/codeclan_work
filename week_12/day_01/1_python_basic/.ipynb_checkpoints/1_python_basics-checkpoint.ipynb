{
 "cells": [
  {
   "cell_type": "markdown",
   "id": "522dbcef",
   "metadata": {},
   "source": [
    "variable assignment"
   ]
  },
  {
   "cell_type": "code",
   "execution_count": 1,
   "id": "4ef57531",
   "metadata": {},
   "outputs": [
    {
     "name": "stdout",
     "output_type": "stream",
     "text": [
      "3\n"
     ]
    }
   ],
   "source": [
    "x = 3\n",
    "print(x)"
   ]
  },
  {
   "cell_type": "code",
   "execution_count": 2,
   "id": "b587069c",
   "metadata": {},
   "outputs": [
    {
     "data": {
      "text/plain": [
       "3"
      ]
     },
     "execution_count": 2,
     "metadata": {},
     "output_type": "execute_result"
    }
   ],
   "source": [
    "x"
   ]
  },
  {
   "cell_type": "code",
   "execution_count": 3,
   "id": "29bdc66e",
   "metadata": {},
   "outputs": [
    {
     "data": {
      "text/plain": [
       "'Hello world!'"
      ]
     },
     "execution_count": 3,
     "metadata": {},
     "output_type": "execute_result"
    }
   ],
   "source": [
    "\"Hello world!\""
   ]
  },
  {
   "cell_type": "code",
   "execution_count": 4,
   "id": "a42c5dc6",
   "metadata": {},
   "outputs": [
    {
     "data": {
      "text/plain": [
       "False"
      ]
     },
     "execution_count": 4,
     "metadata": {},
     "output_type": "execute_result"
    }
   ],
   "source": [
    "3 > 5"
   ]
  },
  {
   "cell_type": "code",
   "execution_count": 5,
   "id": "b78333ec",
   "metadata": {},
   "outputs": [
    {
     "data": {
      "text/plain": [
       "True"
      ]
     },
     "execution_count": 5,
     "metadata": {},
     "output_type": "execute_result"
    }
   ],
   "source": [
    "3 > 2"
   ]
  },
  {
   "cell_type": "code",
   "execution_count": 6,
   "id": "d6369bd4",
   "metadata": {},
   "outputs": [
    {
     "data": {
      "text/plain": [
       "1"
      ]
     },
     "execution_count": 6,
     "metadata": {},
     "output_type": "execute_result"
    }
   ],
   "source": [
    "10 % 3 "
   ]
  },
  {
   "cell_type": "code",
   "execution_count": 7,
   "id": "9f2599b9",
   "metadata": {},
   "outputs": [
    {
     "ename": "SyntaxError",
     "evalue": "invalid syntax (3177267533.py, line 1)",
     "output_type": "error",
     "traceback": [
      "\u001b[0;36m  Input \u001b[0;32mIn [7]\u001b[0;36m\u001b[0m\n\u001b[0;31m    and or\u001b[0m\n\u001b[0m    ^\u001b[0m\n\u001b[0;31mSyntaxError\u001b[0m\u001b[0;31m:\u001b[0m invalid syntax\n"
     ]
    }
   ],
   "source": [
    "and or "
   ]
  },
  {
   "cell_type": "code",
   "execution_count": 8,
   "id": "3dbe6b07",
   "metadata": {},
   "outputs": [],
   "source": [
    "x = None"
   ]
  },
  {
   "cell_type": "code",
   "execution_count": 9,
   "id": "ab431d25",
   "metadata": {},
   "outputs": [
    {
     "name": "stdout",
     "output_type": "stream",
     "text": [
      "None\n"
     ]
    }
   ],
   "source": [
    "print(x)"
   ]
  },
  {
   "cell_type": "code",
   "execution_count": 10,
   "id": "a8bf0eda",
   "metadata": {},
   "outputs": [],
   "source": [
    "x"
   ]
  },
  {
   "cell_type": "code",
   "execution_count": 11,
   "id": "2d48d79d",
   "metadata": {},
   "outputs": [
    {
     "data": {
      "text/plain": [
       "0.6666666666666666"
      ]
     },
     "execution_count": 11,
     "metadata": {},
     "output_type": "execute_result"
    }
   ],
   "source": [
    "2 / 3"
   ]
  },
  {
   "cell_type": "code",
   "execution_count": 12,
   "id": "8b9bcc7e",
   "metadata": {},
   "outputs": [
    {
     "data": {
      "text/plain": [
       "float"
      ]
     },
     "execution_count": 12,
     "metadata": {},
     "output_type": "execute_result"
    }
   ],
   "source": [
    "type(2/3)"
   ]
  },
  {
   "cell_type": "code",
   "execution_count": 13,
   "id": "cdec958f",
   "metadata": {},
   "outputs": [
    {
     "data": {
      "text/plain": [
       "int"
      ]
     },
     "execution_count": 13,
     "metadata": {},
     "output_type": "execute_result"
    }
   ],
   "source": [
    "type(3)"
   ]
  },
  {
   "cell_type": "markdown",
   "id": "355a7c4a",
   "metadata": {},
   "source": [
    "# Heading1\n",
    "## Heading 2\n",
    "### Heading 3\n",
    "#### Heading 4\n",
    "\n",
    "*italics*\n",
    "\n",
    "**bold**\n",
    "\n",
    "1. A\n",
    "2. Numbered\n",
    "3. List\n",
    "\n",
    "* A\n",
    "* Bullet\n",
    "* List\n",
    "\n",
    ".[A link!]. "
   ]
  },
  {
   "cell_type": "markdown",
   "id": "ad5dbcd5",
   "metadata": {},
   "source": [
    "# Lists"
   ]
  },
  {
   "cell_type": "code",
   "execution_count": 14,
   "id": "08c12992",
   "metadata": {},
   "outputs": [
    {
     "data": {
      "text/plain": [
       "['key chain', 'wallet', 'phone', 4]"
      ]
     },
     "execution_count": 14,
     "metadata": {},
     "output_type": "execute_result"
    }
   ],
   "source": [
    "my_items = [\"key chain\", \"wallet\", \"phone\", 4]\n",
    "my_items"
   ]
  },
  {
   "cell_type": "code",
   "execution_count": 15,
   "id": "58d3e6dd",
   "metadata": {},
   "outputs": [
    {
     "data": {
      "text/plain": [
       "list"
      ]
     },
     "execution_count": 15,
     "metadata": {},
     "output_type": "execute_result"
    }
   ],
   "source": [
    "type(my_items)"
   ]
  },
  {
   "cell_type": "code",
   "execution_count": 16,
   "id": "23bd1582",
   "metadata": {},
   "outputs": [
    {
     "data": {
      "text/plain": [
       "False"
      ]
     },
     "execution_count": 16,
     "metadata": {},
     "output_type": "execute_result"
    }
   ],
   "source": [
    "5 == [5]"
   ]
  },
  {
   "cell_type": "code",
   "execution_count": 17,
   "id": "d926c042",
   "metadata": {},
   "outputs": [
    {
     "ename": "NameError",
     "evalue": "name 'indexed' is not defined",
     "output_type": "error",
     "traceback": [
      "\u001b[0;31m---------------------------------------------------------------------------\u001b[0m",
      "\u001b[0;31mNameError\u001b[0m                                 Traceback (most recent call last)",
      "Input \u001b[0;32mIn [17]\u001b[0m, in \u001b[0;36m<cell line: 1>\u001b[0;34m()\u001b[0m\n\u001b[0;32m----> 1\u001b[0m \u001b[38;5;241m0\u001b[39m\u001b[38;5;241m-\u001b[39m\u001b[43mindexed\u001b[49m, \u001b[38;5;129;01mnot\u001b[39;00m \u001b[38;5;241m1\u001b[39m\u001b[38;5;241m-\u001b[39mindexed\n",
      "\u001b[0;31mNameError\u001b[0m: name 'indexed' is not defined"
     ]
    }
   ],
   "source": [
    "0-indexed, not 1-indexed"
   ]
  },
  {
   "cell_type": "markdown",
   "id": "aaf153ef",
   "metadata": {},
   "source": [
    "0-indexed, not 1-indexed"
   ]
  },
  {
   "cell_type": "code",
   "execution_count": 18,
   "id": "a51b10b9",
   "metadata": {},
   "outputs": [
    {
     "data": {
      "text/plain": [
       "'key chain'"
      ]
     },
     "execution_count": 18,
     "metadata": {},
     "output_type": "execute_result"
    }
   ],
   "source": [
    "my_items[0]"
   ]
  },
  {
   "cell_type": "code",
   "execution_count": 19,
   "id": "eccfb5a5",
   "metadata": {},
   "outputs": [
    {
     "data": {
      "text/plain": [
       "4"
      ]
     },
     "execution_count": 19,
     "metadata": {},
     "output_type": "execute_result"
    }
   ],
   "source": [
    "my_items[-1]"
   ]
  },
  {
   "cell_type": "code",
   "execution_count": 20,
   "id": "b470330f",
   "metadata": {},
   "outputs": [
    {
     "data": {
      "text/plain": [
       "['key chain', 'wallet']"
      ]
     },
     "execution_count": 20,
     "metadata": {},
     "output_type": "execute_result"
    }
   ],
   "source": [
    "my_items[0:2]"
   ]
  },
  {
   "cell_type": "code",
   "execution_count": 21,
   "id": "df169c2c",
   "metadata": {},
   "outputs": [
    {
     "data": {
      "text/plain": [
       "['key chain', 'wallet']"
      ]
     },
     "execution_count": 21,
     "metadata": {},
     "output_type": "execute_result"
    }
   ],
   "source": [
    "my_items[:2]"
   ]
  },
  {
   "cell_type": "code",
   "execution_count": 22,
   "id": "bcf26109",
   "metadata": {},
   "outputs": [
    {
     "data": {
      "text/plain": [
       "['phone', 4]"
      ]
     },
     "execution_count": 22,
     "metadata": {},
     "output_type": "execute_result"
    }
   ],
   "source": [
    "my_items[2:]"
   ]
  },
  {
   "cell_type": "code",
   "execution_count": 23,
   "id": "d71970ed",
   "metadata": {},
   "outputs": [
    {
     "data": {
      "text/plain": [
       "range(5, 10)"
      ]
     },
     "execution_count": 23,
     "metadata": {},
     "output_type": "execute_result"
    }
   ],
   "source": [
    "range(5, 10)"
   ]
  },
  {
   "cell_type": "code",
   "execution_count": 24,
   "id": "a36c9e62",
   "metadata": {},
   "outputs": [
    {
     "data": {
      "text/plain": [
       "type"
      ]
     },
     "execution_count": 24,
     "metadata": {},
     "output_type": "execute_result"
    }
   ],
   "source": [
    "type(range)"
   ]
  },
  {
   "cell_type": "code",
   "execution_count": 25,
   "id": "b3b90306",
   "metadata": {},
   "outputs": [
    {
     "data": {
      "text/plain": [
       "[5, 6, 7, 8, 9]"
      ]
     },
     "execution_count": 25,
     "metadata": {},
     "output_type": "execute_result"
    }
   ],
   "source": [
    "list(range(5, 10))"
   ]
  },
  {
   "cell_type": "code",
   "execution_count": 26,
   "id": "38413d3b",
   "metadata": {},
   "outputs": [
    {
     "data": {
      "text/plain": [
       "[0, 1, 2, 3, 4]"
      ]
     },
     "execution_count": 26,
     "metadata": {},
     "output_type": "execute_result"
    }
   ],
   "source": [
    "list(range(5))"
   ]
  },
  {
   "cell_type": "code",
   "execution_count": 29,
   "id": "30bd58b8",
   "metadata": {},
   "outputs": [
    {
     "data": {
      "text/plain": [
       "['Apple', 'Grape', 101, 'Onion', False]"
      ]
     },
     "execution_count": 29,
     "metadata": {},
     "output_type": "execute_result"
    }
   ],
   "source": [
    "things = [\"Apple\", \"Grape\", 101, \"Onion\", False]\n",
    "things"
   ]
  },
  {
   "cell_type": "code",
   "execution_count": 30,
   "id": "28bd9dab",
   "metadata": {},
   "outputs": [
    {
     "data": {
      "text/plain": [
       "'Apple'"
      ]
     },
     "execution_count": 30,
     "metadata": {},
     "output_type": "execute_result"
    }
   ],
   "source": [
    "things[0]"
   ]
  },
  {
   "cell_type": "code",
   "execution_count": 31,
   "id": "8d2d04b8",
   "metadata": {},
   "outputs": [
    {
     "data": {
      "text/plain": [
       "False"
      ]
     },
     "execution_count": 31,
     "metadata": {},
     "output_type": "execute_result"
    }
   ],
   "source": [
    "things[-1]"
   ]
  },
  {
   "cell_type": "code",
   "execution_count": 32,
   "id": "ab267628",
   "metadata": {},
   "outputs": [
    {
     "data": {
      "text/plain": [
       "['Apple', 'Grape', 101, 'Onion']"
      ]
     },
     "execution_count": 32,
     "metadata": {},
     "output_type": "execute_result"
    }
   ],
   "source": [
    "things[:4]"
   ]
  },
  {
   "cell_type": "code",
   "execution_count": 33,
   "id": "159eca0a",
   "metadata": {},
   "outputs": [
    {
     "data": {
      "text/plain": [
       "['Apple', 'Grape', 101, 'Onion']"
      ]
     },
     "execution_count": 33,
     "metadata": {},
     "output_type": "execute_result"
    }
   ],
   "source": [
    "things[:-1]"
   ]
  },
  {
   "cell_type": "code",
   "execution_count": 34,
   "id": "dde19bbe",
   "metadata": {},
   "outputs": [
    {
     "data": {
      "text/plain": [
       "int"
      ]
     },
     "execution_count": 34,
     "metadata": {},
     "output_type": "execute_result"
    }
   ],
   "source": [
    "type(things[2])"
   ]
  },
  {
   "cell_type": "code",
   "execution_count": 35,
   "id": "e113bf21",
   "metadata": {},
   "outputs": [
    {
     "data": {
      "text/plain": [
       "str"
      ]
     },
     "execution_count": 35,
     "metadata": {},
     "output_type": "execute_result"
    }
   ],
   "source": [
    "type(things[3])"
   ]
  },
  {
   "cell_type": "code",
   "execution_count": 36,
   "id": "b891b1d1",
   "metadata": {},
   "outputs": [
    {
     "data": {
      "text/plain": [
       "bool"
      ]
     },
     "execution_count": 36,
     "metadata": {},
     "output_type": "execute_result"
    }
   ],
   "source": [
    "type(things[4])"
   ]
  },
  {
   "cell_type": "code",
   "execution_count": 37,
   "id": "5edd21a7",
   "metadata": {},
   "outputs": [
    {
     "ename": "SyntaxError",
     "evalue": "invalid syntax (3832440710.py, line 1)",
     "output_type": "error",
     "traceback": [
      "\u001b[0;36m  Input \u001b[0;32mIn [37]\u001b[0;36m\u001b[0m\n\u001b[0;31m    range(list(11:16))\u001b[0m\n\u001b[0m                 ^\u001b[0m\n\u001b[0;31mSyntaxError\u001b[0m\u001b[0;31m:\u001b[0m invalid syntax\n"
     ]
    }
   ],
   "source": [
    "range(list(11:16))"
   ]
  },
  {
   "cell_type": "code",
   "execution_count": 39,
   "id": "ce6201da",
   "metadata": {},
   "outputs": [
    {
     "data": {
      "text/plain": [
       "[11, 12, 13, 14, 15]"
      ]
     },
     "execution_count": 39,
     "metadata": {},
     "output_type": "execute_result"
    }
   ],
   "source": [
    "list(range(11, 16))"
   ]
  },
  {
   "cell_type": "code",
   "execution_count": 40,
   "id": "c095ecaf",
   "metadata": {},
   "outputs": [
    {
     "data": {
      "text/plain": [
       "6"
      ]
     },
     "execution_count": 40,
     "metadata": {},
     "output_type": "execute_result"
    }
   ],
   "source": [
    "sum([1, 2, 3])"
   ]
  },
  {
   "cell_type": "code",
   "execution_count": 41,
   "id": "25395612",
   "metadata": {},
   "outputs": [],
   "source": [
    "numbers = [19, 4, 33, 6]"
   ]
  },
  {
   "cell_type": "code",
   "execution_count": 42,
   "id": "c749ed92",
   "metadata": {},
   "outputs": [],
   "source": [
    "numbers.sort()"
   ]
  },
  {
   "cell_type": "code",
   "execution_count": 43,
   "id": "97922b3c",
   "metadata": {},
   "outputs": [
    {
     "data": {
      "text/plain": [
       "[4, 6, 19, 33]"
      ]
     },
     "execution_count": 43,
     "metadata": {},
     "output_type": "execute_result"
    }
   ],
   "source": [
    "numbers"
   ]
  },
  {
   "cell_type": "code",
   "execution_count": 44,
   "id": "f42cb47b",
   "metadata": {},
   "outputs": [
    {
     "data": {
      "text/plain": [
       "33"
      ]
     },
     "execution_count": 44,
     "metadata": {},
     "output_type": "execute_result"
    }
   ],
   "source": [
    "numbers.pop()"
   ]
  },
  {
   "cell_type": "code",
   "execution_count": 45,
   "id": "9dab6d87",
   "metadata": {},
   "outputs": [
    {
     "data": {
      "text/plain": [
       "[4, 6, 19]"
      ]
     },
     "execution_count": 45,
     "metadata": {},
     "output_type": "execute_result"
    }
   ],
   "source": [
    "numbers"
   ]
  },
  {
   "cell_type": "code",
   "execution_count": 46,
   "id": "7c628923",
   "metadata": {},
   "outputs": [],
   "source": [
    "numbers.append(5)"
   ]
  },
  {
   "cell_type": "code",
   "execution_count": 47,
   "id": "387af25f",
   "metadata": {},
   "outputs": [
    {
     "data": {
      "text/plain": [
       "[4, 6, 19, 5]"
      ]
     },
     "execution_count": 47,
     "metadata": {},
     "output_type": "execute_result"
    }
   ],
   "source": [
    "numbers"
   ]
  },
  {
   "cell_type": "code",
   "execution_count": 48,
   "id": "616e0036",
   "metadata": {},
   "outputs": [
    {
     "data": {
      "text/plain": [
       "[4, 6, 19]"
      ]
     },
     "execution_count": 48,
     "metadata": {},
     "output_type": "execute_result"
    }
   ],
   "source": [
    "numbers.remove(5)\n",
    "numbers"
   ]
  },
  {
   "cell_type": "code",
   "execution_count": 49,
   "id": "75c1200a",
   "metadata": {},
   "outputs": [
    {
     "data": {
      "text/plain": [
       "[4, 6, 19, [7, 3, 99]]"
      ]
     },
     "execution_count": 49,
     "metadata": {},
     "output_type": "execute_result"
    }
   ],
   "source": [
    "numbers.append([7, 3, 99])\n",
    "numbers"
   ]
  },
  {
   "cell_type": "code",
   "execution_count": 50,
   "id": "e48f4a66",
   "metadata": {},
   "outputs": [
    {
     "data": {
      "text/plain": [
       "[7, 3, 99]"
      ]
     },
     "execution_count": 50,
     "metadata": {},
     "output_type": "execute_result"
    }
   ],
   "source": [
    "numbers.pop()"
   ]
  },
  {
   "cell_type": "code",
   "execution_count": 51,
   "id": "52bd04b7",
   "metadata": {},
   "outputs": [
    {
     "data": {
      "text/plain": [
       "[4, 6, 19]"
      ]
     },
     "execution_count": 51,
     "metadata": {},
     "output_type": "execute_result"
    }
   ],
   "source": [
    "numbers"
   ]
  },
  {
   "cell_type": "code",
   "execution_count": 52,
   "id": "23fa534f",
   "metadata": {},
   "outputs": [
    {
     "data": {
      "text/plain": [
       "[4, 6, 19, 7, 3, 99]"
      ]
     },
     "execution_count": 52,
     "metadata": {},
     "output_type": "execute_result"
    }
   ],
   "source": [
    "numbers.extend([7, 3, 99])\n",
    "numbers"
   ]
  },
  {
   "cell_type": "code",
   "execution_count": 53,
   "id": "71e75bc2",
   "metadata": {},
   "outputs": [],
   "source": [
    "primes = [1, 2, 3, 5, 7]"
   ]
  },
  {
   "cell_type": "code",
   "execution_count": 54,
   "id": "0e323164",
   "metadata": {},
   "outputs": [],
   "source": [
    "primes.remove(1)"
   ]
  },
  {
   "cell_type": "code",
   "execution_count": 55,
   "id": "c4fc8fd4",
   "metadata": {},
   "outputs": [
    {
     "data": {
      "text/plain": [
       "[2, 3, 5, 7]"
      ]
     },
     "execution_count": 55,
     "metadata": {},
     "output_type": "execute_result"
    }
   ],
   "source": [
    "primes"
   ]
  },
  {
   "cell_type": "code",
   "execution_count": 56,
   "id": "a7ae35ca",
   "metadata": {},
   "outputs": [
    {
     "data": {
      "text/plain": [
       "[2, 3, 5, 7, 11, 13, 17]"
      ]
     },
     "execution_count": 56,
     "metadata": {},
     "output_type": "execute_result"
    }
   ],
   "source": [
    "primes.extend([11, 13, 17])\n",
    "primes"
   ]
  },
  {
   "cell_type": "code",
   "execution_count": 57,
   "id": "9638293e",
   "metadata": {},
   "outputs": [
    {
     "data": {
      "text/plain": [
       "[17, 13, 11, 7, 5, 3, 2]"
      ]
     },
     "execution_count": 57,
     "metadata": {},
     "output_type": "execute_result"
    }
   ],
   "source": [
    "primes.reverse()\n",
    "primes"
   ]
  },
  {
   "cell_type": "markdown",
   "id": "ef9dafc3",
   "metadata": {},
   "source": [
    "# Dictionaries"
   ]
  },
  {
   "cell_type": "code",
   "execution_count": 58,
   "id": "60049f6c",
   "metadata": {},
   "outputs": [
    {
     "data": {
      "text/plain": [
       "{'name': 'Jamie', 'age': 22}"
      ]
     },
     "execution_count": 58,
     "metadata": {},
     "output_type": "execute_result"
    }
   ],
   "source": [
    "person = {\n",
    "    \"name\": \"Jamie\",\n",
    "    \"age\": 22\n",
    "}\n",
    "person"
   ]
  },
  {
   "cell_type": "code",
   "execution_count": 59,
   "id": "102343fb",
   "metadata": {},
   "outputs": [
    {
     "data": {
      "text/plain": [
       "dict"
      ]
     },
     "execution_count": 59,
     "metadata": {},
     "output_type": "execute_result"
    }
   ],
   "source": [
    "type(person)"
   ]
  },
  {
   "cell_type": "code",
   "execution_count": 62,
   "id": "c8b35976",
   "metadata": {},
   "outputs": [
    {
     "data": {
      "text/plain": [
       "{'name': 'Scotland', 'age': 22}"
      ]
     },
     "execution_count": 62,
     "metadata": {},
     "output_type": "execute_result"
    }
   ],
   "source": [
    "person2 = {\n",
    "    \"name\": \"Colin\",\n",
    "    \"name\": \"Scotland\",\n",
    "    \"age\": 22\n",
    "}\n",
    "person2"
   ]
  },
  {
   "cell_type": "code",
   "execution_count": 63,
   "id": "8569c5bb",
   "metadata": {},
   "outputs": [
    {
     "data": {
      "text/plain": [
       "'Jamie'"
      ]
     },
     "execution_count": 63,
     "metadata": {},
     "output_type": "execute_result"
    }
   ],
   "source": [
    "person[\"name\"]"
   ]
  },
  {
   "cell_type": "code",
   "execution_count": 64,
   "id": "fa61cb2c",
   "metadata": {},
   "outputs": [
    {
     "data": {
      "text/plain": [
       "dict_keys(['name', 'age'])"
      ]
     },
     "execution_count": 64,
     "metadata": {},
     "output_type": "execute_result"
    }
   ],
   "source": [
    "person.keys()"
   ]
  },
  {
   "cell_type": "code",
   "execution_count": 65,
   "id": "ac024a66",
   "metadata": {},
   "outputs": [
    {
     "data": {
      "text/plain": [
       "dict_values(['Jamie', 22])"
      ]
     },
     "execution_count": 65,
     "metadata": {},
     "output_type": "execute_result"
    }
   ],
   "source": [
    "person.values()"
   ]
  },
  {
   "cell_type": "code",
   "execution_count": 66,
   "id": "8a5d4c84",
   "metadata": {},
   "outputs": [
    {
     "data": {
      "text/plain": [
       "dict_items([('name', 'Jamie'), ('age', 22)])"
      ]
     },
     "execution_count": 66,
     "metadata": {},
     "output_type": "execute_result"
    }
   ],
   "source": [
    "person.items()"
   ]
  },
  {
   "cell_type": "code",
   "execution_count": 67,
   "id": "930e7385",
   "metadata": {},
   "outputs": [
    {
     "data": {
      "text/plain": [
       "2"
      ]
     },
     "execution_count": 67,
     "metadata": {},
     "output_type": "execute_result"
    }
   ],
   "source": [
    "len(person)"
   ]
  },
  {
   "cell_type": "code",
   "execution_count": 68,
   "id": "498d8189",
   "metadata": {},
   "outputs": [
    {
     "data": {
      "text/plain": [
       "4"
      ]
     },
     "execution_count": 68,
     "metadata": {},
     "output_type": "execute_result"
    }
   ],
   "source": [
    "len(my_items)"
   ]
  },
  {
   "cell_type": "code",
   "execution_count": 69,
   "id": "9666ba75",
   "metadata": {},
   "outputs": [
    {
     "data": {
      "text/plain": [
       "{'name': 'Del', 'age': 22, 'preferred_jokes': ['dad jokes', 'puns']}"
      ]
     },
     "execution_count": 69,
     "metadata": {},
     "output_type": "execute_result"
    }
   ],
   "source": [
    "person.update({\n",
    "    \"name\": \"Del\",\n",
    "    \"preferred_jokes\": [\"dad jokes\", \"puns\"]\n",
    "})\n",
    "person"
   ]
  },
  {
   "cell_type": "code",
   "execution_count": 70,
   "id": "45090a49",
   "metadata": {},
   "outputs": [
    {
     "data": {
      "text/plain": [
       "22"
      ]
     },
     "execution_count": 70,
     "metadata": {},
     "output_type": "execute_result"
    }
   ],
   "source": [
    "person.pop(\"age\")"
   ]
  },
  {
   "cell_type": "code",
   "execution_count": 71,
   "id": "816c6e5a",
   "metadata": {},
   "outputs": [
    {
     "name": "stdout",
     "output_type": "stream",
     "text": [
      "{'uk': {'capital': 'London', 'population': 1000}, 'germany': {'capital': 'Berlin', 'population': 5}}\n"
     ]
    }
   ],
   "source": [
    "countries = {\n",
    "    \"uk\": {\n",
    "        \"capital\": \"London\",\n",
    "        \"population\": 1000\n",
    "    },\n",
    "    \"germany\": {\n",
    "        \"capital\": \"Berlin\",\n",
    "        \"population\": 5\n",
    "    }\n",
    "}\n",
    "print(countries)"
   ]
  },
  {
   "cell_type": "code",
   "execution_count": 72,
   "id": "5f73262a",
   "metadata": {},
   "outputs": [
    {
     "data": {
      "text/plain": [
       "5"
      ]
     },
     "execution_count": 72,
     "metadata": {},
     "output_type": "execute_result"
    }
   ],
   "source": [
    "countries[\"germany\"][\"population\"]"
   ]
  },
  {
   "cell_type": "code",
   "execution_count": null,
   "id": "b5044f93",
   "metadata": {},
   "outputs": [],
   "source": []
  }
 ],
 "metadata": {
  "kernelspec": {
   "display_name": "Python 3 (ipykernel)",
   "language": "python",
   "name": "python3"
  },
  "language_info": {
   "codemirror_mode": {
    "name": "ipython",
    "version": 3
   },
   "file_extension": ".py",
   "mimetype": "text/x-python",
   "name": "python",
   "nbconvert_exporter": "python",
   "pygments_lexer": "ipython3",
   "version": "3.9.12"
  }
 },
 "nbformat": 4,
 "nbformat_minor": 5
}
