{
 "cells": [
  {
   "cell_type": "markdown",
   "id": "c3d34845",
   "metadata": {},
   "source": [
    "## groupby extras"
   ]
  },
  {
   "cell_type": "code",
   "execution_count": 1,
   "id": "17b7dcc3",
   "metadata": {},
   "outputs": [
    {
     "data": {
      "text/html": [
       "<div>\n",
       "<style scoped>\n",
       "    .dataframe tbody tr th:only-of-type {\n",
       "        vertical-align: middle;\n",
       "    }\n",
       "\n",
       "    .dataframe tbody tr th {\n",
       "        vertical-align: top;\n",
       "    }\n",
       "\n",
       "    .dataframe thead th {\n",
       "        text-align: right;\n",
       "    }\n",
       "</style>\n",
       "<table border=\"1\" class=\"dataframe\">\n",
       "  <thead>\n",
       "    <tr style=\"text-align: right;\">\n",
       "      <th></th>\n",
       "      <th>item_no</th>\n",
       "      <th>cost_class</th>\n",
       "      <th>cost</th>\n",
       "      <th>stock_code</th>\n",
       "      <th>priority_code</th>\n",
       "      <th>tax_rate</th>\n",
       "    </tr>\n",
       "  </thead>\n",
       "  <tbody>\n",
       "    <tr>\n",
       "      <th>0</th>\n",
       "      <td>1</td>\n",
       "      <td>1st</td>\n",
       "      <td>10.99</td>\n",
       "      <td>a</td>\n",
       "      <td>&lt;NA&gt;</td>\n",
       "      <td>0</td>\n",
       "    </tr>\n",
       "    <tr>\n",
       "      <th>1</th>\n",
       "      <td>2</td>\n",
       "      <td>2nd</td>\n",
       "      <td>NaN</td>\n",
       "      <td>a</td>\n",
       "      <td>&lt;NA&gt;</td>\n",
       "      <td>0</td>\n",
       "    </tr>\n",
       "    <tr>\n",
       "      <th>2</th>\n",
       "      <td>2</td>\n",
       "      <td>3rd</td>\n",
       "      <td>2.99</td>\n",
       "      <td>c</td>\n",
       "      <td>a</td>\n",
       "      <td>20</td>\n",
       "    </tr>\n",
       "    <tr>\n",
       "      <th>3</th>\n",
       "      <td>4</td>\n",
       "      <td>4th</td>\n",
       "      <td>NaN</td>\n",
       "      <td>b</td>\n",
       "      <td>b</td>\n",
       "      <td>20</td>\n",
       "    </tr>\n",
       "    <tr>\n",
       "      <th>4</th>\n",
       "      <td>5</td>\n",
       "      <td>4th</td>\n",
       "      <td>2.99</td>\n",
       "      <td>a</td>\n",
       "      <td>&lt;NA&gt;</td>\n",
       "      <td>20</td>\n",
       "    </tr>\n",
       "    <tr>\n",
       "      <th>5</th>\n",
       "      <td>6</td>\n",
       "      <td>3rd</td>\n",
       "      <td>2.45</td>\n",
       "      <td>b</td>\n",
       "      <td>a</td>\n",
       "      <td>0</td>\n",
       "    </tr>\n",
       "    <tr>\n",
       "      <th>6</th>\n",
       "      <td>7</td>\n",
       "      <td>2nd</td>\n",
       "      <td>5.99</td>\n",
       "      <td>&lt;NA&gt;</td>\n",
       "      <td>e</td>\n",
       "      <td>20</td>\n",
       "    </tr>\n",
       "    <tr>\n",
       "      <th>7</th>\n",
       "      <td>8</td>\n",
       "      <td>&lt;NA&gt;</td>\n",
       "      <td>5.99</td>\n",
       "      <td>&lt;NA&gt;</td>\n",
       "      <td>&lt;NA&gt;</td>\n",
       "      <td>20</td>\n",
       "    </tr>\n",
       "    <tr>\n",
       "      <th>8</th>\n",
       "      <td>9</td>\n",
       "      <td>1st</td>\n",
       "      <td>3.00</td>\n",
       "      <td>a</td>\n",
       "      <td>a</td>\n",
       "      <td>5</td>\n",
       "    </tr>\n",
       "    <tr>\n",
       "      <th>9</th>\n",
       "      <td>10</td>\n",
       "      <td>3rd</td>\n",
       "      <td>NaN</td>\n",
       "      <td>c</td>\n",
       "      <td>d</td>\n",
       "      <td>20</td>\n",
       "    </tr>\n",
       "  </tbody>\n",
       "</table>\n",
       "</div>"
      ],
      "text/plain": [
       "   item_no cost_class   cost stock_code priority_code  tax_rate\n",
       "0        1        1st  10.99          a          <NA>         0\n",
       "1        2        2nd    NaN          a          <NA>         0\n",
       "2        2        3rd   2.99          c             a        20\n",
       "3        4        4th    NaN          b             b        20\n",
       "4        5        4th   2.99          a          <NA>        20\n",
       "5        6        3rd   2.45          b             a         0\n",
       "6        7        2nd   5.99       <NA>             e        20\n",
       "7        8       <NA>   5.99       <NA>          <NA>        20\n",
       "8        9        1st   3.00          a             a         5\n",
       "9       10        3rd    NaN          c             d        20"
      ]
     },
     "execution_count": 1,
     "metadata": {},
     "output_type": "execute_result"
    }
   ],
   "source": [
    "import pandas as pd\n",
    "import numpy as np\n",
    "\n",
    "stock = pd.DataFrame({\n",
    "    'item_no': pd.Series([1, 2, 2, 4, 5, 6, 7, 8, 9, 10], dtype='Int64'),\n",
    "    'cost_class': pd.Series(['1st', '2nd', '3rd', '4th', '4th', '3rd', '2nd', np.nan, '1st', '3rd'], dtype='string'),\n",
    "    'cost': pd.Series([10.99, np.nan, 2.99, np.nan, 2.99, 2.45, 5.99, 5.99, 3.00, None], dtype='float64'),\n",
    "    'stock_code': pd.Series(['a', 'a', 'c', 'b', 'a', 'b', np.nan, np.nan, 'a', 'c'], dtype='string'),\n",
    "    'priority_code': pd.Series([np.nan, None, 'a', 'b', None, 'a', 'e', None, 'a', 'd'], dtype='string'),\n",
    "    'tax_rate': pd.Series([0, 0, 20, 20, 20, 0, 20, 20, 5, 20])\n",
    "})\n",
    "\n",
    "stock"
   ]
  },
  {
   "cell_type": "code",
   "execution_count": 3,
   "id": "f581074f",
   "metadata": {},
   "outputs": [
    {
     "data": {
      "text/plain": [
       "<pandas.core.groupby.generic.DataFrameGroupBy object at 0x7ff73e36f850>"
      ]
     },
     "execution_count": 3,
     "metadata": {},
     "output_type": "execute_result"
    }
   ],
   "source": [
    "grouped_stock = stock.groupby('stock_code')"
   ]
  },
  {
   "cell_type": "code",
   "execution_count": 5,
   "id": "9cf86ac6",
   "metadata": {},
   "outputs": [
    {
     "data": {
      "text/plain": [
       "stock_code\n",
       "a    1st\n",
       "b    3rd\n",
       "c    3rd\n",
       "Name: cost_class, dtype: string"
      ]
     },
     "execution_count": 5,
     "metadata": {},
     "output_type": "execute_result"
    }
   ],
   "source": [
    "grouped_stock.cost_class.min()"
   ]
  },
  {
   "cell_type": "code",
   "execution_count": 8,
   "id": "a489981a",
   "metadata": {},
   "outputs": [
    {
     "data": {
      "text/html": [
       "<div>\n",
       "<style scoped>\n",
       "    .dataframe tbody tr th:only-of-type {\n",
       "        vertical-align: middle;\n",
       "    }\n",
       "\n",
       "    .dataframe tbody tr th {\n",
       "        vertical-align: top;\n",
       "    }\n",
       "\n",
       "    .dataframe thead th {\n",
       "        text-align: right;\n",
       "    }\n",
       "</style>\n",
       "<table border=\"1\" class=\"dataframe\">\n",
       "  <thead>\n",
       "    <tr style=\"text-align: right;\">\n",
       "      <th></th>\n",
       "      <th>item_no</th>\n",
       "      <th>cost_class</th>\n",
       "      <th>cost</th>\n",
       "      <th>stock_code</th>\n",
       "      <th>priority_code</th>\n",
       "      <th>tax_rate</th>\n",
       "    </tr>\n",
       "  </thead>\n",
       "  <tbody>\n",
       "    <tr>\n",
       "      <th>0</th>\n",
       "      <td>1</td>\n",
       "      <td>1st</td>\n",
       "      <td>10.99</td>\n",
       "      <td>a</td>\n",
       "      <td>&lt;NA&gt;</td>\n",
       "      <td>0</td>\n",
       "    </tr>\n",
       "    <tr>\n",
       "      <th>1</th>\n",
       "      <td>2</td>\n",
       "      <td>2nd</td>\n",
       "      <td>NaN</td>\n",
       "      <td>a</td>\n",
       "      <td>&lt;NA&gt;</td>\n",
       "      <td>0</td>\n",
       "    </tr>\n",
       "    <tr>\n",
       "      <th>4</th>\n",
       "      <td>5</td>\n",
       "      <td>4th</td>\n",
       "      <td>2.99</td>\n",
       "      <td>a</td>\n",
       "      <td>&lt;NA&gt;</td>\n",
       "      <td>20</td>\n",
       "    </tr>\n",
       "    <tr>\n",
       "      <th>8</th>\n",
       "      <td>9</td>\n",
       "      <td>1st</td>\n",
       "      <td>3.00</td>\n",
       "      <td>a</td>\n",
       "      <td>a</td>\n",
       "      <td>5</td>\n",
       "    </tr>\n",
       "  </tbody>\n",
       "</table>\n",
       "</div>"
      ],
      "text/plain": [
       "   item_no cost_class   cost stock_code priority_code  tax_rate\n",
       "0        1        1st  10.99          a          <NA>         0\n",
       "1        2        2nd    NaN          a          <NA>         0\n",
       "4        5        4th   2.99          a          <NA>        20\n",
       "8        9        1st   3.00          a             a         5"
      ]
     },
     "execution_count": 8,
     "metadata": {},
     "output_type": "execute_result"
    }
   ],
   "source": [
    "pd.DataFrame(grouped_stock).loc[0, 1]"
   ]
  },
  {
   "cell_type": "code",
   "execution_count": 10,
   "id": "5475d3b9",
   "metadata": {},
   "outputs": [
    {
     "data": {
      "text/html": [
       "<div>\n",
       "<style scoped>\n",
       "    .dataframe tbody tr th:only-of-type {\n",
       "        vertical-align: middle;\n",
       "    }\n",
       "\n",
       "    .dataframe tbody tr th {\n",
       "        vertical-align: top;\n",
       "    }\n",
       "\n",
       "    .dataframe thead th {\n",
       "        text-align: right;\n",
       "    }\n",
       "</style>\n",
       "<table border=\"1\" class=\"dataframe\">\n",
       "  <thead>\n",
       "    <tr style=\"text-align: right;\">\n",
       "      <th></th>\n",
       "      <th>item_no</th>\n",
       "      <th>cost_class</th>\n",
       "      <th>cost</th>\n",
       "      <th>priority_code</th>\n",
       "      <th>tax_rate</th>\n",
       "    </tr>\n",
       "    <tr>\n",
       "      <th>stock_code</th>\n",
       "      <th></th>\n",
       "      <th></th>\n",
       "      <th></th>\n",
       "      <th></th>\n",
       "      <th></th>\n",
       "    </tr>\n",
       "  </thead>\n",
       "  <tbody>\n",
       "    <tr>\n",
       "      <th>a</th>\n",
       "      <td>4</td>\n",
       "      <td>4</td>\n",
       "      <td>3</td>\n",
       "      <td>1</td>\n",
       "      <td>4</td>\n",
       "    </tr>\n",
       "    <tr>\n",
       "      <th>b</th>\n",
       "      <td>2</td>\n",
       "      <td>2</td>\n",
       "      <td>1</td>\n",
       "      <td>2</td>\n",
       "      <td>2</td>\n",
       "    </tr>\n",
       "    <tr>\n",
       "      <th>c</th>\n",
       "      <td>2</td>\n",
       "      <td>2</td>\n",
       "      <td>1</td>\n",
       "      <td>2</td>\n",
       "      <td>2</td>\n",
       "    </tr>\n",
       "  </tbody>\n",
       "</table>\n",
       "</div>"
      ],
      "text/plain": [
       "            item_no  cost_class  cost  priority_code  tax_rate\n",
       "stock_code                                                    \n",
       "a                 4           4     3              1         4\n",
       "b                 2           2     1              2         2\n",
       "c                 2           2     1              2         2"
      ]
     },
     "execution_count": 10,
     "metadata": {},
     "output_type": "execute_result"
    }
   ],
   "source": [
    "grouped_stock.count()"
   ]
  },
  {
   "cell_type": "markdown",
   "id": "91a7664e",
   "metadata": {},
   "source": [
    "## apply multiple aggregators to a group "
   ]
  },
  {
   "cell_type": "code",
   "execution_count": 13,
   "id": "fb3e4e2d",
   "metadata": {},
   "outputs": [],
   "source": [
    "multiple_aggregators = grouped_stock.agg(['count', 'min', 'max'])"
   ]
  },
  {
   "cell_type": "code",
   "execution_count": 15,
   "id": "412a8cdd",
   "metadata": {},
   "outputs": [
    {
     "data": {
      "text/plain": [
       "MultiIndex([(      'item_no', 'count'),\n",
       "            (      'item_no',   'min'),\n",
       "            (      'item_no',   'max'),\n",
       "            (   'cost_class', 'count'),\n",
       "            (   'cost_class',   'min'),\n",
       "            (   'cost_class',   'max'),\n",
       "            (         'cost', 'count'),\n",
       "            (         'cost',   'min'),\n",
       "            (         'cost',   'max'),\n",
       "            ('priority_code', 'count'),\n",
       "            ('priority_code',   'min'),\n",
       "            ('priority_code',   'max'),\n",
       "            (     'tax_rate', 'count'),\n",
       "            (     'tax_rate',   'min'),\n",
       "            (     'tax_rate',   'max')],\n",
       "           )"
      ]
     },
     "execution_count": 15,
     "metadata": {},
     "output_type": "execute_result"
    }
   ],
   "source": [
    "# columns are now a multiindex\n",
    "multiple_aggregators.columns"
   ]
  },
  {
   "cell_type": "code",
   "execution_count": 16,
   "id": "bbea9c8d",
   "metadata": {},
   "outputs": [
    {
     "data": {
      "text/plain": [
       "stock_code\n",
       "a    10.99\n",
       "b     2.45\n",
       "c     2.99\n",
       "Name: (cost, max), dtype: float64"
      ]
     },
     "execution_count": 16,
     "metadata": {},
     "output_type": "execute_result"
    }
   ],
   "source": [
    "#max cost for each stock code \n",
    "multiple_aggregators.loc[:, ('cost', 'max')]"
   ]
  },
  {
   "cell_type": "code",
   "execution_count": 18,
   "id": "063916d6",
   "metadata": {},
   "outputs": [
    {
     "name": "stderr",
     "output_type": "stream",
     "text": [
      "/var/folders/vq/49_dlfvs3h5cps28stxlbm2m0000gn/T/ipykernel_89314/3810964269.py:3: FutureWarning: ['cost_class', 'priority_code'] did not aggregate successfully. If any error is raised this will raise in a future version of pandas. Drop these columns/ops to avoid this warning.\n",
      "  grouped_stock.agg(['count', 'mean', 'max'])\n"
     ]
    },
    {
     "data": {
      "text/html": [
       "<div>\n",
       "<style scoped>\n",
       "    .dataframe tbody tr th:only-of-type {\n",
       "        vertical-align: middle;\n",
       "    }\n",
       "\n",
       "    .dataframe tbody tr th {\n",
       "        vertical-align: top;\n",
       "    }\n",
       "\n",
       "    .dataframe thead tr th {\n",
       "        text-align: left;\n",
       "    }\n",
       "\n",
       "    .dataframe thead tr:last-of-type th {\n",
       "        text-align: right;\n",
       "    }\n",
       "</style>\n",
       "<table border=\"1\" class=\"dataframe\">\n",
       "  <thead>\n",
       "    <tr>\n",
       "      <th></th>\n",
       "      <th colspan=\"3\" halign=\"left\">item_no</th>\n",
       "      <th colspan=\"3\" halign=\"left\">cost</th>\n",
       "      <th colspan=\"3\" halign=\"left\">tax_rate</th>\n",
       "    </tr>\n",
       "    <tr>\n",
       "      <th></th>\n",
       "      <th>count</th>\n",
       "      <th>mean</th>\n",
       "      <th>max</th>\n",
       "      <th>count</th>\n",
       "      <th>mean</th>\n",
       "      <th>max</th>\n",
       "      <th>count</th>\n",
       "      <th>mean</th>\n",
       "      <th>max</th>\n",
       "    </tr>\n",
       "    <tr>\n",
       "      <th>stock_code</th>\n",
       "      <th></th>\n",
       "      <th></th>\n",
       "      <th></th>\n",
       "      <th></th>\n",
       "      <th></th>\n",
       "      <th></th>\n",
       "      <th></th>\n",
       "      <th></th>\n",
       "      <th></th>\n",
       "    </tr>\n",
       "  </thead>\n",
       "  <tbody>\n",
       "    <tr>\n",
       "      <th>a</th>\n",
       "      <td>4</td>\n",
       "      <td>4.25</td>\n",
       "      <td>9</td>\n",
       "      <td>3</td>\n",
       "      <td>5.66</td>\n",
       "      <td>10.99</td>\n",
       "      <td>4</td>\n",
       "      <td>6.25</td>\n",
       "      <td>20</td>\n",
       "    </tr>\n",
       "    <tr>\n",
       "      <th>b</th>\n",
       "      <td>2</td>\n",
       "      <td>5.0</td>\n",
       "      <td>6</td>\n",
       "      <td>1</td>\n",
       "      <td>2.45</td>\n",
       "      <td>2.45</td>\n",
       "      <td>2</td>\n",
       "      <td>10.00</td>\n",
       "      <td>20</td>\n",
       "    </tr>\n",
       "    <tr>\n",
       "      <th>c</th>\n",
       "      <td>2</td>\n",
       "      <td>6.0</td>\n",
       "      <td>10</td>\n",
       "      <td>1</td>\n",
       "      <td>2.99</td>\n",
       "      <td>2.99</td>\n",
       "      <td>2</td>\n",
       "      <td>20.00</td>\n",
       "      <td>20</td>\n",
       "    </tr>\n",
       "  </tbody>\n",
       "</table>\n",
       "</div>"
      ],
      "text/plain": [
       "           item_no            cost              tax_rate           \n",
       "             count  mean max count  mean    max    count   mean max\n",
       "stock_code                                                         \n",
       "a                4  4.25   9     3  5.66  10.99        4   6.25  20\n",
       "b                2   5.0   6     1  2.45   2.45        2  10.00  20\n",
       "c                2   6.0  10     1  2.99   2.99        2  20.00  20"
      ]
     },
     "execution_count": 18,
     "metadata": {},
     "output_type": "execute_result"
    }
   ],
   "source": [
    "#task: mean, count and max for all columns\n",
    "\n",
    "grouped_stock.agg(['count', 'mean', 'max'])"
   ]
  },
  {
   "cell_type": "code",
   "execution_count": 20,
   "id": "a032e27c",
   "metadata": {},
   "outputs": [
    {
     "data": {
      "text/html": [
       "<div>\n",
       "<style scoped>\n",
       "    .dataframe tbody tr th:only-of-type {\n",
       "        vertical-align: middle;\n",
       "    }\n",
       "\n",
       "    .dataframe tbody tr th {\n",
       "        vertical-align: top;\n",
       "    }\n",
       "\n",
       "    .dataframe thead tr th {\n",
       "        text-align: left;\n",
       "    }\n",
       "\n",
       "    .dataframe thead tr:last-of-type th {\n",
       "        text-align: right;\n",
       "    }\n",
       "</style>\n",
       "<table border=\"1\" class=\"dataframe\">\n",
       "  <thead>\n",
       "    <tr>\n",
       "      <th></th>\n",
       "      <th colspan=\"3\" halign=\"left\">cost_class</th>\n",
       "      <th colspan=\"2\" halign=\"left\">cost</th>\n",
       "      <th>stock_code</th>\n",
       "    </tr>\n",
       "    <tr>\n",
       "      <th></th>\n",
       "      <th>count</th>\n",
       "      <th>min</th>\n",
       "      <th>max</th>\n",
       "      <th>mean</th>\n",
       "      <th>median</th>\n",
       "      <th>count</th>\n",
       "    </tr>\n",
       "    <tr>\n",
       "      <th>stock_code</th>\n",
       "      <th></th>\n",
       "      <th></th>\n",
       "      <th></th>\n",
       "      <th></th>\n",
       "      <th></th>\n",
       "      <th></th>\n",
       "    </tr>\n",
       "  </thead>\n",
       "  <tbody>\n",
       "    <tr>\n",
       "      <th>a</th>\n",
       "      <td>4</td>\n",
       "      <td>1st</td>\n",
       "      <td>4th</td>\n",
       "      <td>5.66</td>\n",
       "      <td>3.00</td>\n",
       "      <td>4</td>\n",
       "    </tr>\n",
       "    <tr>\n",
       "      <th>b</th>\n",
       "      <td>2</td>\n",
       "      <td>3rd</td>\n",
       "      <td>4th</td>\n",
       "      <td>2.45</td>\n",
       "      <td>2.45</td>\n",
       "      <td>2</td>\n",
       "    </tr>\n",
       "    <tr>\n",
       "      <th>c</th>\n",
       "      <td>2</td>\n",
       "      <td>3rd</td>\n",
       "      <td>3rd</td>\n",
       "      <td>2.99</td>\n",
       "      <td>2.99</td>\n",
       "      <td>2</td>\n",
       "    </tr>\n",
       "  </tbody>\n",
       "</table>\n",
       "</div>"
      ],
      "text/plain": [
       "           cost_class            cost        stock_code\n",
       "                count  min  max  mean median      count\n",
       "stock_code                                             \n",
       "a                   4  1st  4th  5.66   3.00          4\n",
       "b                   2  3rd  4th  2.45   2.45          2\n",
       "c                   2  3rd  3rd  2.99   2.99          2"
      ]
     },
     "execution_count": 20,
     "metadata": {},
     "output_type": "execute_result"
    }
   ],
   "source": [
    "#specify which operations for which columns \n",
    "grouped_stock.agg({\n",
    "    'cost_class': ['count', 'min', 'max'],\n",
    "    'cost': ['mean', 'median'],\n",
    "    'stock_code': ['count']\n",
    "})"
   ]
  },
  {
   "cell_type": "code",
   "execution_count": 27,
   "id": "5e78bc8b",
   "metadata": {},
   "outputs": [],
   "source": [
    "##task group by cost class and stcok code, calc mean for numerics\n",
    "\n",
    "cc_sc_mean = stock.groupby(['cost_class', 'stock_code']).agg({\n",
    "    'cost': ['mean'],\n",
    "    'tax_rate': ['mean']\n",
    "})"
   ]
  },
  {
   "cell_type": "code",
   "execution_count": 28,
   "id": "85aea4a0",
   "metadata": {},
   "outputs": [
    {
     "data": {
      "text/plain": [
       "mean    2.99\n",
       "Name: (3rd, c), dtype: float64"
      ]
     },
     "execution_count": 28,
     "metadata": {},
     "output_type": "execute_result"
    }
   ],
   "source": [
    "#extract mean cost for items in 3rd cost class with stock code 'c'\n",
    "cc_sc_mean.loc[('3rd', 'c'), 'cost']"
   ]
  },
  {
   "cell_type": "markdown",
   "id": "36381975",
   "metadata": {},
   "source": [
    "## custom aggregators"
   ]
  },
  {
   "cell_type": "code",
   "execution_count": 29,
   "id": "f902ea36",
   "metadata": {},
   "outputs": [],
   "source": [
    "#sum of each stock code group plus a 2 pound stocking fee per item\n",
    "stock_costs = grouped_stock.agg({\n",
    "    'item_no': ['count'],\n",
    "    'cost': ['sum']\n",
    "})\n"
   ]
  },
  {
   "cell_type": "code",
   "execution_count": 32,
   "id": "e874acc4",
   "metadata": {},
   "outputs": [],
   "source": [
    "stock_costs[('cost', 'sum')] = stock_costs['cost', 'sum'] - 2*stock_costs[('item_no', 'count')]"
   ]
  },
  {
   "cell_type": "code",
   "execution_count": 33,
   "id": "21438e56",
   "metadata": {},
   "outputs": [
    {
     "data": {
      "text/html": [
       "<div>\n",
       "<style scoped>\n",
       "    .dataframe tbody tr th:only-of-type {\n",
       "        vertical-align: middle;\n",
       "    }\n",
       "\n",
       "    .dataframe tbody tr th {\n",
       "        vertical-align: top;\n",
       "    }\n",
       "\n",
       "    .dataframe thead tr th {\n",
       "        text-align: left;\n",
       "    }\n",
       "\n",
       "    .dataframe thead tr:last-of-type th {\n",
       "        text-align: right;\n",
       "    }\n",
       "</style>\n",
       "<table border=\"1\" class=\"dataframe\">\n",
       "  <thead>\n",
       "    <tr>\n",
       "      <th></th>\n",
       "      <th>item_no</th>\n",
       "      <th>cost</th>\n",
       "    </tr>\n",
       "    <tr>\n",
       "      <th></th>\n",
       "      <th>count</th>\n",
       "      <th>sum</th>\n",
       "    </tr>\n",
       "    <tr>\n",
       "      <th>stock_code</th>\n",
       "      <th></th>\n",
       "      <th></th>\n",
       "    </tr>\n",
       "  </thead>\n",
       "  <tbody>\n",
       "    <tr>\n",
       "      <th>a</th>\n",
       "      <td>4</td>\n",
       "      <td>8.98</td>\n",
       "    </tr>\n",
       "    <tr>\n",
       "      <th>b</th>\n",
       "      <td>2</td>\n",
       "      <td>-1.55</td>\n",
       "    </tr>\n",
       "    <tr>\n",
       "      <th>c</th>\n",
       "      <td>2</td>\n",
       "      <td>-1.01</td>\n",
       "    </tr>\n",
       "  </tbody>\n",
       "</table>\n",
       "</div>"
      ],
      "text/plain": [
       "           item_no  cost\n",
       "             count   sum\n",
       "stock_code              \n",
       "a                4  8.98\n",
       "b                2 -1.55\n",
       "c                2 -1.01"
      ]
     },
     "execution_count": 33,
     "metadata": {},
     "output_type": "execute_result"
    }
   ],
   "source": [
    "stock_costs"
   ]
  },
  {
   "cell_type": "code",
   "execution_count": 38,
   "id": "a9940e4c",
   "metadata": {},
   "outputs": [],
   "source": [
    "#define our own function\n",
    "def sum_minus_restocking(rows, restocking_fee=2.00):\n",
    "    return(rows.sum() - (rows.count() * restocking_fee))"
   ]
  },
  {
   "cell_type": "code",
   "execution_count": 39,
   "id": "fc05eb54",
   "metadata": {},
   "outputs": [],
   "source": [
    "stock_costs = grouped_stock.agg({\n",
    "    'item_no': ['count'],\n",
    "    'cost': sum_minus_restocking\n",
    "})"
   ]
  },
  {
   "cell_type": "code",
   "execution_count": 40,
   "id": "e4f7720f",
   "metadata": {},
   "outputs": [
    {
     "data": {
      "text/html": [
       "<div>\n",
       "<style scoped>\n",
       "    .dataframe tbody tr th:only-of-type {\n",
       "        vertical-align: middle;\n",
       "    }\n",
       "\n",
       "    .dataframe tbody tr th {\n",
       "        vertical-align: top;\n",
       "    }\n",
       "\n",
       "    .dataframe thead tr th {\n",
       "        text-align: left;\n",
       "    }\n",
       "\n",
       "    .dataframe thead tr:last-of-type th {\n",
       "        text-align: right;\n",
       "    }\n",
       "</style>\n",
       "<table border=\"1\" class=\"dataframe\">\n",
       "  <thead>\n",
       "    <tr>\n",
       "      <th></th>\n",
       "      <th>item_no</th>\n",
       "      <th>cost</th>\n",
       "    </tr>\n",
       "    <tr>\n",
       "      <th></th>\n",
       "      <th>count</th>\n",
       "      <th>sum_minus_restocking</th>\n",
       "    </tr>\n",
       "    <tr>\n",
       "      <th>stock_code</th>\n",
       "      <th></th>\n",
       "      <th></th>\n",
       "    </tr>\n",
       "  </thead>\n",
       "  <tbody>\n",
       "    <tr>\n",
       "      <th>a</th>\n",
       "      <td>4</td>\n",
       "      <td>10.98</td>\n",
       "    </tr>\n",
       "    <tr>\n",
       "      <th>b</th>\n",
       "      <td>2</td>\n",
       "      <td>0.45</td>\n",
       "    </tr>\n",
       "    <tr>\n",
       "      <th>c</th>\n",
       "      <td>2</td>\n",
       "      <td>0.99</td>\n",
       "    </tr>\n",
       "  </tbody>\n",
       "</table>\n",
       "</div>"
      ],
      "text/plain": [
       "           item_no                 cost\n",
       "             count sum_minus_restocking\n",
       "stock_code                             \n",
       "a                4                10.98\n",
       "b                2                 0.45\n",
       "c                2                 0.99"
      ]
     },
     "execution_count": 40,
     "metadata": {},
     "output_type": "execute_result"
    }
   ],
   "source": [
    "#different result due to handling of na values\n",
    "stock_costs"
   ]
  },
  {
   "cell_type": "code",
   "execution_count": null,
   "id": "4f99514d",
   "metadata": {},
   "outputs": [],
   "source": []
  }
 ],
 "metadata": {
  "kernelspec": {
   "display_name": "Python 3 (ipykernel)",
   "language": "python",
   "name": "python3"
  },
  "language_info": {
   "codemirror_mode": {
    "name": "ipython",
    "version": 3
   },
   "file_extension": ".py",
   "mimetype": "text/x-python",
   "name": "python",
   "nbconvert_exporter": "python",
   "pygments_lexer": "ipython3",
   "version": "3.9.12"
  }
 },
 "nbformat": 4,
 "nbformat_minor": 5
}
